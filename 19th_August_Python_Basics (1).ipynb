{
 "cells": [
  {
   "cell_type": "code",
   "execution_count": 3,
   "id": "8a511afa-480a-456e-b4f5-9d5c4c82d7d3",
   "metadata": {},
   "outputs": [
    {
     "name": "stdout",
     "output_type": "stream",
     "text": [
      "After swapping:\n",
      "x = 15\n",
      "y = 10\n"
     ]
    }
   ],
   "source": [
    "#question1\n",
    "#step 1 assign the value to variables x & y\n",
    "x = 10\n",
    "y = 15\n",
    "\n",
    "#step2 i used operators to swap the values of x & y \n",
    "\n",
    "#here x = x+y => x= 10+15= 25\n",
    "x = x + y\n",
    "\n",
    "#here we are getting the value of y i.e new value of x =25 & y = 15 (assigned value)\n",
    "#=> y = 25-15 = 10\n",
    "y = x - y\n",
    "\n",
    "# now we have values of x = 25 & y = 10 => x = 25 - 10 = 15\n",
    "x = x - y\n",
    "\n",
    "print(\"After swapping:\")\n",
    "print(\"x =\", x)\n",
    "print(\"y =\", y)\n",
    "\n",
    "# in this way i got the value of x and y swapped "
   ]
  },
  {
   "cell_type": "code",
   "execution_count": 20,
   "id": "4b27038c-4a5d-42c6-b2a4-ee85a2c54545",
   "metadata": {},
   "outputs": [
    {
     "name": "stdin",
     "output_type": "stream",
     "text": [
      "Enter the length of the rectangle:  2\n",
      "Enter the width of the rectangle:  3\n"
     ]
    },
    {
     "name": "stdout",
     "output_type": "stream",
     "text": [
      "The area of the rectangle with length 2 and width 3 is: 6\n"
     ]
    }
   ],
   "source": [
    "# QUESTION 2\n",
    "# Take input for length and width from the user to calculate area \n",
    "length = int(input(\"Enter the length of the rectangle: \"))\n",
    "width = int(input(\"Enter the width of the rectangle: \"))\n",
    "\n",
    "# Calculate the area of the rectangle as formullae is area = l*b\n",
    "area = length * width\n",
    "\n",
    "# here i am getting the area of rectangle\n",
    "print(\"The area of the rectangle with length\", length, \"and width\", width, \"is:\", area)\n",
    "\n",
    "# HERE I TAKE LENTH AS 2 AND WIDTH AS 3\n"
   ]
  },
  {
   "cell_type": "code",
   "execution_count": 21,
   "id": "2fc78981-184c-483e-ad03-304e0fff05ea",
   "metadata": {},
   "outputs": [
    {
     "name": "stdin",
     "output_type": "stream",
     "text": [
      "Enter the temperature in Celsius:  27.5\n"
     ]
    },
    {
     "name": "stdout",
     "output_type": "stream",
     "text": [
      "Temperature in Fahrenheit: 81.5\n"
     ]
    }
   ],
   "source": [
    "#QUESTION 3\n",
    "# step 1 in this im taking input temperatue input from user in celcius\n",
    "# here in step 1 im taking input in float as temp usually is  floating value ie 27.5 eg \n",
    "celsius = float(input(\"Enter the temperature in Celsius: \"))\n",
    "\n",
    "# here in this step i convert the celcius into farenhite by using the formullae below\n",
    "fahrenheit = (celsius * 9/5) + 32\n",
    "\n",
    "# at last im getting my output in farenhite \n",
    "print(\"Temperature in Fahrenheit:\", fahrenheit)\n"
   ]
  },
  {
   "cell_type": "code",
   "execution_count": 22,
   "id": "1a9c67f2-0dd4-45ba-91f6-b95b039a9ecf",
   "metadata": {},
   "outputs": [
    {
     "name": "stdin",
     "output_type": "stream",
     "text": [
      "enter your name KAMRAN\n"
     ]
    },
    {
     "name": "stdout",
     "output_type": "stream",
     "text": [
      "THE LENGTH OF INPUT STRING: 6\n"
     ]
    }
   ],
   "source": [
    "#STRING BASED QUESTIONS\n",
    "\n",
    "#QUESTION 1\n",
    "\n",
    "\n",
    "#STEP 1 FISRT I TAKE THE INPUT FROM USER AS STRING\n",
    "x = str(input(\"enter your name\"))\n",
    "\n",
    "#STEP 2 AS I HAVE TO CALCULATE THE LENGTH OF STRING THEIR IS A INBUILT FUNCTION IN PYTHON NAMLEY LEN()\n",
    "#       I USED THAT FUNCTION TO CALCULATE THE LENGTYH OF THE INPUT STRING\n",
    "length_of_string= len(x)\n",
    "\n",
    "#STEP 3 DISPLAYS THE LENGTH OF STRING\n",
    "print(\"THE LENGTH OF INPUT STRING:\",length_of_string)\n",
    "\n",
    "# I ENTERED THE NAME AS KAMRAN\n",
    "# FOT THE LENGTH AS OUTPUT AS 6"
   ]
  },
  {
   "cell_type": "code",
   "execution_count": 23,
   "id": "38304efa-adc0-4ff5-98ab-8b5514a03d15",
   "metadata": {},
   "outputs": [
    {
     "name": "stdin",
     "output_type": "stream",
     "text": [
      "Enter a sentence:  MY NAME IS KAMRAN MAJEED MALIK\n"
     ]
    },
    {
     "name": "stdout",
     "output_type": "stream",
     "text": [
      "Number of vowels in the sentence: 10\n"
     ]
    }
   ],
   "source": [
    "#question 2 answer\n",
    "\n",
    "# Take input sentence from the user\n",
    "sentence = input(\"Enter a sentence: \")\n",
    "\n",
    "# Define a function to count vowels in a string\n",
    "def count_vowels(input_string):\n",
    "    vowels = 'aeiouAEIOU'\n",
    "    vowel_count = 0\n",
    "    for char in input_string:\n",
    "        if char in vowels:\n",
    "            vowel_count += 1\n",
    "    return vowel_count\n",
    "\n",
    "# Call the function to count vowels in the sentence\n",
    "find_vowels = count_vowels(sentence)\n",
    "\n",
    "# Display the number of vowels in the sentence\n",
    "print(\"Number of vowels in the sentence:\", find_vowels)\n",
    "\n",
    "#HERE I ENTERED THE SENTENCE AS => MY NAME IS KAMRAN MAJEED MALIK\n"
   ]
  },
  {
   "cell_type": "code",
   "execution_count": 24,
   "id": "7b8e6def-0004-4ba9-82e4-6371ad61ef85",
   "metadata": {},
   "outputs": [
    {
     "name": "stdin",
     "output_type": "stream",
     "text": [
      "Enter a string:  KAMRAN\n"
     ]
    },
    {
     "name": "stdout",
     "output_type": "stream",
     "text": [
      "Reversed string: NARMAK\n"
     ]
    }
   ],
   "source": [
    "# QUESTION 3 ANSWER\n",
    "\n",
    "# Take input from the user AS STRING\n",
    "input_string = input(\"Enter a string: \")\n",
    "\n",
    "# Reverse the string using string slicing\n",
    "#[::-1] is used to create a reversed copy of the string by slicing it with a step of -1, \n",
    "\n",
    "reversed_string = input_string[::-1]\n",
    "\n",
    "# Print the reversed string\n",
    "print(\"Reversed string:\", reversed_string)\n",
    "\n",
    "# here i entered the input as KAMRAN\n",
    "# AND GOT THE OUPUT AS NARMAK\n"
   ]
  },
  {
   "cell_type": "code",
   "execution_count": 25,
   "id": "5a209fdf-0ed0-4d77-8238-1e9c4919b65a",
   "metadata": {},
   "outputs": [
    {
     "name": "stdin",
     "output_type": "stream",
     "text": [
      "Enter a string:  KAMRAN MALIK\n"
     ]
    },
    {
     "name": "stdout",
     "output_type": "stream",
     "text": [
      "The string is not a palindrome.\n"
     ]
    }
   ],
   "source": [
    "#QUESTION 4\n",
    "\n",
    "\n",
    "# STEP 1 WE  Take input string from the user\n",
    "input_string = input(\"Enter a string: \")\n",
    "\n",
    "# STEP 2 We Define a function to check if a string is a palindrome\n",
    "def is_palindrome(input_string):\n",
    "    \n",
    "# Here We  Remove spaces and convert to lowercase for case-insensitive comparison\n",
    "    modified_string = input_string.replace(\" \", \"\").lower()\n",
    "# Now  Check if the cleaned string is equal to its reverse\n",
    "    return modified_string == modified_string[::-1]\n",
    "\n",
    "# Check if the input string is a palindrome\n",
    "if is_palindrome(input_string):\n",
    "    print(\"The string is a palindrome.\")\n",
    "else:\n",
    "    print(\"The string is not a palindrome.\")\n",
    "    \n",
    "    # ENTERED THE STRING : KAMRAN MALIK\n"
   ]
  },
  {
   "cell_type": "code",
   "execution_count": 26,
   "id": "cf8eeb2c-ee75-4f97-b000-795f6dcc90f7",
   "metadata": {},
   "outputs": [
    {
     "name": "stdin",
     "output_type": "stream",
     "text": [
      "enter a string KAMRAN MALIK\n"
     ]
    },
    {
     "name": "stdout",
     "output_type": "stream",
     "text": [
      "KAMRANMALIK\n"
     ]
    }
   ],
   "source": [
    "# QUESTION 5\n",
    "\n",
    "\n",
    "#step 1 we take input as string from user\n",
    "x= input(\"enter a string\")\n",
    "\n",
    "#step 2 we use .replace() here which takes two arguments on what to replace and other with which\n",
    "y = x.replace(\" \" , \"\")\n",
    "\n",
    "#step 3 we display the output as with out space\n",
    "print(y)\n",
    "\n",
    "# STRING AS KAMRAN MALIK"
   ]
  },
  {
   "cell_type": "code",
   "execution_count": null,
   "id": "3608f948-b12f-493b-8f30-60bd93d66395",
   "metadata": {},
   "outputs": [],
   "source": []
  }
 ],
 "metadata": {
  "kernelspec": {
   "display_name": "Python 3 (ipykernel)",
   "language": "python",
   "name": "python3"
  },
  "language_info": {
   "codemirror_mode": {
    "name": "ipython",
    "version": 3
   },
   "file_extension": ".py",
   "mimetype": "text/x-python",
   "name": "python",
   "nbconvert_exporter": "python",
   "pygments_lexer": "ipython3",
   "version": "3.10.8"
  }
 },
 "nbformat": 4,
 "nbformat_minor": 5
}
